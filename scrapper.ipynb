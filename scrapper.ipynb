{
 "cells": [
  {
   "cell_type": "code",
   "execution_count": 1,
   "id": "6693aaad-717f-4369-a462-9bbe84b69802",
   "metadata": {},
   "outputs": [],
   "source": [
    "from bs4 import BeautifulSoup\n",
    "import requests"
   ]
  },
  {
   "cell_type": "code",
   "execution_count": 2,
   "id": "e22ca2e7-8a76-4ed7-acdc-2e4ae73488eb",
   "metadata": {},
   "outputs": [],
   "source": [
    "wiki_url = \"https://en.wikipedia.org/wiki/\""
   ]
  },
  {
   "cell_type": "code",
   "execution_count": 3,
   "id": "5e12f0a4-3caf-43dc-925f-9862bf6c1faa",
   "metadata": {},
   "outputs": [],
   "source": [
    "def make_html(html):\n",
    "    return BeautifulSoup(html, 'html.parser')"
   ]
  },
  {
   "cell_type": "code",
   "execution_count": 4,
   "id": "13a3f36a-ab21-493b-82fa-88baa490543e",
   "metadata": {},
   "outputs": [],
   "source": [
    "r = requests.get(wiki_url + \"Uruguay\")"
   ]
  },
  {
   "cell_type": "code",
   "execution_count": 6,
   "id": "bdf53086-ef9c-4ab3-b502-6a599783b13d",
   "metadata": {},
   "outputs": [],
   "source": [
    "soup = make_html(r.text)"
   ]
  },
  {
   "cell_type": "code",
   "execution_count": 7,
   "id": "a9227f96-ee63-4a9f-9d7a-7d0e3c5b9f17",
   "metadata": {},
   "outputs": [],
   "source": [
    "VCARD_CLASS = \"infobox ib-country vcard\""
   ]
  },
  {
   "cell_type": "code",
   "execution_count": 9,
   "id": "72b8121b-a80c-4b85-a20c-10e9c1780a23",
   "metadata": {},
   "outputs": [
    {
     "ename": "ModuleNotFoundError",
     "evalue": "No module named 'pandas'",
     "output_type": "error",
     "traceback": [
      "\u001b[0;31m---------------------------------------------------------------------------\u001b[0m",
      "\u001b[0;31mModuleNotFoundError\u001b[0m                       Traceback (most recent call last)",
      "Input \u001b[0;32mIn [9]\u001b[0m, in \u001b[0;36m<cell line: 1>\u001b[0;34m()\u001b[0m\n\u001b[0;32m----> 1\u001b[0m \u001b[38;5;28;01mimport\u001b[39;00m \u001b[38;5;21;01mpandas\u001b[39;00m \u001b[38;5;28;01mas\u001b[39;00m \u001b[38;5;21;01mpd\u001b[39;00m\n",
      "\u001b[0;31mModuleNotFoundError\u001b[0m: No module named 'pandas'"
     ]
    }
   ],
   "source": [
    "import pandas as pd"
   ]
  },
  {
   "cell_type": "code",
   "execution_count": null,
   "id": "34c55d1e-5fa7-4f2a-8f87-1740f53c4a9e",
   "metadata": {},
   "outputs": [],
   "source": []
  }
 ],
 "metadata": {
  "kernelspec": {
   "display_name": "Python 3",
   "language": "python",
   "name": "python3"
  },
  "language_info": {
   "codemirror_mode": {
    "name": "ipython",
    "version": 3
   },
   "file_extension": ".py",
   "mimetype": "text/x-python",
   "name": "python",
   "nbconvert_exporter": "python",
   "pygments_lexer": "ipython3",
   "version": "3.9.7"
  }
 },
 "nbformat": 4,
 "nbformat_minor": 5
}
